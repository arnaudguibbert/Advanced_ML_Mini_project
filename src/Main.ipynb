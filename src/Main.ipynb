{
 "cells": [
  {
   "cell_type": "markdown",
   "id": "wrapped-petersburg",
   "metadata": {},
   "source": [
    "#### !!! WARNING !!! Before closing this file: If you want to commit modifications make sure you have clear the outputs of each cell."
   ]
  },
  {
   "cell_type": "code",
   "execution_count": null,
   "id": "silent-smile",
   "metadata": {},
   "outputs": [],
   "source": [
    "import matplotlib.pyplot as plt\n",
    "import numpy as np \n",
    "import pandas as pd\n",
    "import seaborn as sns\n",
    "from sklearn.svm import SVR\n",
    "from data_processing import *\n",
    "from SVR import SVRmodel\n",
    "from time import perf_counter\n",
    "%matplotlib inline\n",
    "%load_ext autoreload\n",
    "%autoreload 2"
   ]
  },
  {
   "cell_type": "code",
   "execution_count": null,
   "id": "canadian-invasion",
   "metadata": {},
   "outputs": [],
   "source": [
    "sns.set_style(\"darkgrid\")\n",
    "data = extract(\"../Data/Postures.csv\")\n",
    "data.head()"
   ]
  },
  {
   "cell_type": "code",
   "execution_count": null,
   "id": "russian-impossible",
   "metadata": {},
   "outputs": [],
   "source": [
    "nb_data_points, features, missing_values, sensor_df, class_dist = data_params(data)\n",
    "print(\"Number of data points = \",nb_data_points)\n",
    "print(\"Number of features = \",features)\n",
    "print(\"Number of sparse data points = \",missing_values)\n",
    "print(\"Number of sensors =\",(features-2)//3)"
   ]
  },
  {
   "cell_type": "code",
   "execution_count": null,
   "id": "wicked-guinea",
   "metadata": {},
   "outputs": [],
   "source": [
    "sensor_df.head(20)"
   ]
  },
  {
   "cell_type": "code",
   "execution_count": null,
   "id": "front-blind",
   "metadata": {},
   "outputs": [],
   "source": [
    "class_dist.head()"
   ]
  },
  {
   "cell_type": "code",
   "execution_count": null,
   "id": "exclusive-stocks",
   "metadata": {},
   "outputs": [],
   "source": [
    "fig = plt.figure(figsize=[24,8])\n",
    "ax1 = fig.add_subplot(121)\n",
    "ax2 = fig.add_subplot(122)\n",
    "sns.barplot(data=class_dist,x=\"Class\",y=\"Number of data points\",ax=ax1)\n",
    "sns.barplot(data=sensor_df,x=\"Sensors\",y=\"Missing datapoints\",ax=ax2)\n",
    "plt.show()"
   ]
  },
  {
   "cell_type": "code",
   "execution_count": null,
   "id": "moderate-freeware",
   "metadata": {},
   "outputs": [],
   "source": [
    "index = [i for i in range(0,11)]\n",
    "Sensor_3 = data.iloc[:,index]\n",
    "relevant_data = Sensor_3[(Sensor_3 == '?').any(axis=1) == False]\n",
    "relevant_data.head()"
   ]
  },
  {
   "cell_type": "code",
   "execution_count": null,
   "id": "consolidated-daughter",
   "metadata": {},
   "outputs": [],
   "source": [
    "subdataset = split_data(relevant_data,20)"
   ]
  },
  {
   "cell_type": "code",
   "execution_count": null,
   "id": "global-choir",
   "metadata": {},
   "outputs": [],
   "source": [
    "for i in range(0,len(subdataset)):\n",
    "    print(\"Class 1 subdataset \",i,\" \",(subdataset[i][:,1] == 1).sum())"
   ]
  },
  {
   "cell_type": "code",
   "execution_count": null,
   "id": "unlimited-underwear",
   "metadata": {},
   "outputs": [],
   "source": [
    "subsub = split_data(subdataset[0],5,one_hot=False)\n",
    "for i in range(0,len(subsub)):\n",
    "    print(\"Class 1 subdataset \",i,\" \",(subsub[i][:,1] == 1).sum())"
   ]
  },
  {
   "cell_type": "code",
   "execution_count": null,
   "id": "noticed-accommodation",
   "metadata": {},
   "outputs": [],
   "source": [
    "range_C = np.linspace(1,50,3)\n",
    "range_gamma = np.linspace(0.1,2,3)\n",
    "Model_SVR = SVRmodel(subsub,-1,range_C,range_gamma,kernel='rbf') "
   ]
  },
  {
   "cell_type": "code",
   "execution_count": null,
   "id": "regional-stack",
   "metadata": {},
   "outputs": [],
   "source": [
    "print(Model_SVR.cross_test[0].shape)"
   ]
  },
  {
   "cell_type": "code",
   "execution_count": null,
   "id": "threatened-homework",
   "metadata": {},
   "outputs": [],
   "source": [
    "Model_SVR.train_models()"
   ]
  },
  {
   "cell_type": "code",
   "execution_count": null,
   "id": "electronic-conviction",
   "metadata": {},
   "outputs": [],
   "source": [
    "print(Model_SVR.test_grid)"
   ]
  },
  {
   "cell_type": "code",
   "execution_count": null,
   "id": "remarkable-florida",
   "metadata": {},
   "outputs": [],
   "source": [
    "print(Model_SVR.train_grid)"
   ]
  },
  {
   "cell_type": "code",
   "execution_count": null,
   "id": "level-laptop",
   "metadata": {},
   "outputs": [],
   "source": [
    "x = Model_SVR.grid_C\n",
    "y = Model_SVR.grid_gamma\n",
    "test = Model_SVR.test_grid\n",
    "train = Model_SVR.train_grid\n",
    "fig = plt.figure(figsize=[14,6])\n",
    "ax1 = fig.add_subplot(1,2,1)\n",
    "ax2 = fig.add_subplot(1,2,2)\n",
    "c1 = ax1.contourf(x,y,test)\n",
    "c2 = ax2.contourf(x,y,train)\n",
    "fig.colorbar(c2,ax=ax2)\n",
    "fig.colorbar(c1,ax=ax1)\n",
    "plt.show()"
   ]
  }
 ],
 "metadata": {
  "kernelspec": {
   "display_name": "Python 3",
   "language": "python",
   "name": "python3"
  },
  "language_info": {
   "codemirror_mode": {
    "name": "ipython",
    "version": 3
   },
   "file_extension": ".py",
   "mimetype": "text/x-python",
   "name": "python",
   "nbconvert_exporter": "python",
   "pygments_lexer": "ipython3",
   "version": "3.6.12"
  }
 },
 "nbformat": 4,
 "nbformat_minor": 5
}
