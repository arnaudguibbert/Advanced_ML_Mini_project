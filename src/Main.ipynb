{
 "cells": [
  {
   "cell_type": "markdown",
   "id": "wrapped-petersburg",
   "metadata": {},
   "source": [
    "#### !!! WARNING !!! Before closing this file: If you want to commit modifications make sure you have clear the outputs of each cell."
   ]
  },
  {
   "cell_type": "code",
   "execution_count": 1,
   "id": "silent-smile",
   "metadata": {},
   "outputs": [],
   "source": [
    "import matplotlib.pyplot as plt\n",
    "import numpy as np \n",
    "import pandas as pd\n",
    "import seaborn as sns\n",
    "from sklearn.svm import SVR\n",
    "from data_processing import *\n",
    "from SVR import SVRmodel\n",
    "from time import perf_counter\n",
    "%matplotlib inline\n",
    "%load_ext autoreload\n",
    "%autoreload 2"
   ]
  },
  {
   "cell_type": "code",
   "execution_count": 2,
   "id": "canadian-invasion",
   "metadata": {},
   "outputs": [
    {
     "data": {
      "text/html": [
       "<div>\n",
       "<style scoped>\n",
       "    .dataframe tbody tr th:only-of-type {\n",
       "        vertical-align: middle;\n",
       "    }\n",
       "\n",
       "    .dataframe tbody tr th {\n",
       "        vertical-align: top;\n",
       "    }\n",
       "\n",
       "    .dataframe thead th {\n",
       "        text-align: right;\n",
       "    }\n",
       "</style>\n",
       "<table border=\"1\" class=\"dataframe\">\n",
       "  <thead>\n",
       "    <tr style=\"text-align: right;\">\n",
       "      <th></th>\n",
       "      <th>Class</th>\n",
       "      <th>X0</th>\n",
       "      <th>Y0</th>\n",
       "      <th>Z0</th>\n",
       "      <th>X1</th>\n",
       "      <th>Y1</th>\n",
       "      <th>Z1</th>\n",
       "      <th>X2</th>\n",
       "      <th>Y2</th>\n",
       "      <th>Z2</th>\n",
       "      <th>...</th>\n",
       "      <th>Z8</th>\n",
       "      <th>X9</th>\n",
       "      <th>Y9</th>\n",
       "      <th>Z9</th>\n",
       "      <th>X10</th>\n",
       "      <th>Y10</th>\n",
       "      <th>Z10</th>\n",
       "      <th>X11</th>\n",
       "      <th>Y11</th>\n",
       "      <th>Z11</th>\n",
       "    </tr>\n",
       "  </thead>\n",
       "  <tbody>\n",
       "    <tr>\n",
       "      <th>0</th>\n",
       "      <td>Class 1</td>\n",
       "      <td>54.263880</td>\n",
       "      <td>71.466776</td>\n",
       "      <td>-64.807709</td>\n",
       "      <td>76.895635</td>\n",
       "      <td>42.462500</td>\n",
       "      <td>-72.780545</td>\n",
       "      <td>36.621229</td>\n",
       "      <td>81.680557</td>\n",
       "      <td>-52.919272</td>\n",
       "      <td>...</td>\n",
       "      <td>?</td>\n",
       "      <td>?</td>\n",
       "      <td>?</td>\n",
       "      <td>?</td>\n",
       "      <td>?</td>\n",
       "      <td>?</td>\n",
       "      <td>?</td>\n",
       "      <td>?</td>\n",
       "      <td>?</td>\n",
       "      <td>?</td>\n",
       "    </tr>\n",
       "    <tr>\n",
       "      <th>1</th>\n",
       "      <td>Class 1</td>\n",
       "      <td>56.527558</td>\n",
       "      <td>72.266609</td>\n",
       "      <td>-61.935252</td>\n",
       "      <td>39.135978</td>\n",
       "      <td>82.538530</td>\n",
       "      <td>-49.596509</td>\n",
       "      <td>79.223743</td>\n",
       "      <td>43.254091</td>\n",
       "      <td>-69.982489</td>\n",
       "      <td>...</td>\n",
       "      <td>?</td>\n",
       "      <td>?</td>\n",
       "      <td>?</td>\n",
       "      <td>?</td>\n",
       "      <td>?</td>\n",
       "      <td>?</td>\n",
       "      <td>?</td>\n",
       "      <td>?</td>\n",
       "      <td>?</td>\n",
       "      <td>?</td>\n",
       "    </tr>\n",
       "    <tr>\n",
       "      <th>2</th>\n",
       "      <td>Class 1</td>\n",
       "      <td>55.849928</td>\n",
       "      <td>72.469064</td>\n",
       "      <td>-62.562788</td>\n",
       "      <td>37.988804</td>\n",
       "      <td>82.631347</td>\n",
       "      <td>-50.606259</td>\n",
       "      <td>78.451526</td>\n",
       "      <td>43.567403</td>\n",
       "      <td>-70.658489</td>\n",
       "      <td>...</td>\n",
       "      <td>?</td>\n",
       "      <td>?</td>\n",
       "      <td>?</td>\n",
       "      <td>?</td>\n",
       "      <td>?</td>\n",
       "      <td>?</td>\n",
       "      <td>?</td>\n",
       "      <td>?</td>\n",
       "      <td>?</td>\n",
       "      <td>?</td>\n",
       "    </tr>\n",
       "    <tr>\n",
       "      <th>3</th>\n",
       "      <td>Class 1</td>\n",
       "      <td>55.329647</td>\n",
       "      <td>71.707275</td>\n",
       "      <td>-63.688956</td>\n",
       "      <td>36.561863</td>\n",
       "      <td>81.868749</td>\n",
       "      <td>-52.752784</td>\n",
       "      <td>86.320630</td>\n",
       "      <td>68.214645</td>\n",
       "      <td>-72.228461</td>\n",
       "      <td>...</td>\n",
       "      <td>?</td>\n",
       "      <td>?</td>\n",
       "      <td>?</td>\n",
       "      <td>?</td>\n",
       "      <td>?</td>\n",
       "      <td>?</td>\n",
       "      <td>?</td>\n",
       "      <td>?</td>\n",
       "      <td>?</td>\n",
       "      <td>?</td>\n",
       "    </tr>\n",
       "    <tr>\n",
       "      <th>4</th>\n",
       "      <td>Class 1</td>\n",
       "      <td>55.142401</td>\n",
       "      <td>71.435607</td>\n",
       "      <td>-64.177303</td>\n",
       "      <td>36.175818</td>\n",
       "      <td>81.556874</td>\n",
       "      <td>-53.475747</td>\n",
       "      <td>76.986143</td>\n",
       "      <td>42.426849</td>\n",
       "      <td>-72.574743</td>\n",
       "      <td>...</td>\n",
       "      <td>?</td>\n",
       "      <td>?</td>\n",
       "      <td>?</td>\n",
       "      <td>?</td>\n",
       "      <td>?</td>\n",
       "      <td>?</td>\n",
       "      <td>?</td>\n",
       "      <td>?</td>\n",
       "      <td>?</td>\n",
       "      <td>?</td>\n",
       "    </tr>\n",
       "  </tbody>\n",
       "</table>\n",
       "<p>5 rows × 37 columns</p>\n",
       "</div>"
      ],
      "text/plain": [
       "     Class         X0         Y0         Z0         X1         Y1         Z1  \\\n",
       "0  Class 1  54.263880  71.466776 -64.807709  76.895635  42.462500 -72.780545   \n",
       "1  Class 1  56.527558  72.266609 -61.935252  39.135978  82.538530 -49.596509   \n",
       "2  Class 1  55.849928  72.469064 -62.562788  37.988804  82.631347 -50.606259   \n",
       "3  Class 1  55.329647  71.707275 -63.688956  36.561863  81.868749 -52.752784   \n",
       "4  Class 1  55.142401  71.435607 -64.177303  36.175818  81.556874 -53.475747   \n",
       "\n",
       "          X2         Y2         Z2  ... Z8 X9 Y9 Z9 X10 Y10 Z10 X11 Y11 Z11  \n",
       "0  36.621229  81.680557 -52.919272  ...  ?  ?  ?  ?   ?   ?   ?   ?   ?   ?  \n",
       "1  79.223743  43.254091 -69.982489  ...  ?  ?  ?  ?   ?   ?   ?   ?   ?   ?  \n",
       "2  78.451526  43.567403 -70.658489  ...  ?  ?  ?  ?   ?   ?   ?   ?   ?   ?  \n",
       "3  86.320630  68.214645 -72.228461  ...  ?  ?  ?  ?   ?   ?   ?   ?   ?   ?  \n",
       "4  76.986143  42.426849 -72.574743  ...  ?  ?  ?  ?   ?   ?   ?   ?   ?   ?  \n",
       "\n",
       "[5 rows x 37 columns]"
      ]
     },
     "execution_count": 2,
     "metadata": {},
     "output_type": "execute_result"
    }
   ],
   "source": [
    "sns.set_style(\"darkgrid\")\n",
    "data = extract(\"../Data/Postures.csv\")\n",
    "data.head()"
   ]
  },
  {
   "cell_type": "code",
   "execution_count": 3,
   "id": "russian-impossible",
   "metadata": {},
   "outputs": [
    {
     "name": "stdout",
     "output_type": "stream",
     "text": [
      "Number of data points =  78095\n",
      "Number of features =  37\n",
      "Number of sparse data points =  78064\n",
      "Number of sensors = 11\n"
     ]
    }
   ],
   "source": [
    "nb_data_points, features, missing_values, sensor_df, class_dist = data_params(data)\n",
    "print(\"Number of data points = \",nb_data_points)\n",
    "print(\"Number of features = \",features)\n",
    "print(\"Number of sparse data points = \",missing_values)\n",
    "print(\"Number of sensors =\",(features-2)//3)"
   ]
  },
  {
   "cell_type": "code",
   "execution_count": 4,
   "id": "wicked-guinea",
   "metadata": {},
   "outputs": [
    {
     "data": {
      "text/html": [
       "<div>\n",
       "<style scoped>\n",
       "    .dataframe tbody tr th:only-of-type {\n",
       "        vertical-align: middle;\n",
       "    }\n",
       "\n",
       "    .dataframe tbody tr th {\n",
       "        vertical-align: top;\n",
       "    }\n",
       "\n",
       "    .dataframe thead th {\n",
       "        text-align: right;\n",
       "    }\n",
       "</style>\n",
       "<table border=\"1\" class=\"dataframe\">\n",
       "  <thead>\n",
       "    <tr style=\"text-align: right;\">\n",
       "      <th></th>\n",
       "      <th>Sensors</th>\n",
       "      <th>Missing datapoints</th>\n",
       "    </tr>\n",
       "  </thead>\n",
       "  <tbody>\n",
       "    <tr>\n",
       "      <th>0</th>\n",
       "      <td>Sensor 0</td>\n",
       "      <td>0</td>\n",
       "    </tr>\n",
       "    <tr>\n",
       "      <th>1</th>\n",
       "      <td>Sensor 1</td>\n",
       "      <td>0</td>\n",
       "    </tr>\n",
       "    <tr>\n",
       "      <th>2</th>\n",
       "      <td>Sensor 2</td>\n",
       "      <td>0</td>\n",
       "    </tr>\n",
       "    <tr>\n",
       "      <th>3</th>\n",
       "      <td>Sensor 3</td>\n",
       "      <td>690</td>\n",
       "    </tr>\n",
       "    <tr>\n",
       "      <th>4</th>\n",
       "      <td>Sensor 4</td>\n",
       "      <td>3120</td>\n",
       "    </tr>\n",
       "    <tr>\n",
       "      <th>5</th>\n",
       "      <td>Sensor 5</td>\n",
       "      <td>13023</td>\n",
       "    </tr>\n",
       "    <tr>\n",
       "      <th>6</th>\n",
       "      <td>Sensor 6</td>\n",
       "      <td>25848</td>\n",
       "    </tr>\n",
       "    <tr>\n",
       "      <th>7</th>\n",
       "      <td>Sensor 7</td>\n",
       "      <td>39152</td>\n",
       "    </tr>\n",
       "    <tr>\n",
       "      <th>8</th>\n",
       "      <td>Sensor 8</td>\n",
       "      <td>47532</td>\n",
       "    </tr>\n",
       "    <tr>\n",
       "      <th>9</th>\n",
       "      <td>Sensor 9</td>\n",
       "      <td>54128</td>\n",
       "    </tr>\n",
       "    <tr>\n",
       "      <th>10</th>\n",
       "      <td>Sensor 10</td>\n",
       "      <td>63343</td>\n",
       "    </tr>\n",
       "    <tr>\n",
       "      <th>11</th>\n",
       "      <td>Sensor 11</td>\n",
       "      <td>78064</td>\n",
       "    </tr>\n",
       "  </tbody>\n",
       "</table>\n",
       "</div>"
      ],
      "text/plain": [
       "      Sensors  Missing datapoints\n",
       "0    Sensor 0                   0\n",
       "1    Sensor 1                   0\n",
       "2    Sensor 2                   0\n",
       "3    Sensor 3                 690\n",
       "4    Sensor 4                3120\n",
       "5    Sensor 5               13023\n",
       "6    Sensor 6               25848\n",
       "7    Sensor 7               39152\n",
       "8    Sensor 8               47532\n",
       "9    Sensor 9               54128\n",
       "10  Sensor 10               63343\n",
       "11  Sensor 11               78064"
      ]
     },
     "execution_count": 4,
     "metadata": {},
     "output_type": "execute_result"
    }
   ],
   "source": [
    "sensor_df.head(20)"
   ]
  },
  {
   "cell_type": "code",
   "execution_count": 5,
   "id": "front-blind",
   "metadata": {},
   "outputs": [
    {
     "data": {
      "text/html": [
       "<div>\n",
       "<style scoped>\n",
       "    .dataframe tbody tr th:only-of-type {\n",
       "        vertical-align: middle;\n",
       "    }\n",
       "\n",
       "    .dataframe tbody tr th {\n",
       "        vertical-align: top;\n",
       "    }\n",
       "\n",
       "    .dataframe thead th {\n",
       "        text-align: right;\n",
       "    }\n",
       "</style>\n",
       "<table border=\"1\" class=\"dataframe\">\n",
       "  <thead>\n",
       "    <tr style=\"text-align: right;\">\n",
       "      <th></th>\n",
       "      <th>Class</th>\n",
       "      <th>Number of data points</th>\n",
       "    </tr>\n",
       "  </thead>\n",
       "  <tbody>\n",
       "    <tr>\n",
       "      <th>0</th>\n",
       "      <td>Class 1</td>\n",
       "      <td>16265</td>\n",
       "    </tr>\n",
       "    <tr>\n",
       "      <th>1</th>\n",
       "      <td>Class 2</td>\n",
       "      <td>14978</td>\n",
       "    </tr>\n",
       "    <tr>\n",
       "      <th>2</th>\n",
       "      <td>Class 3</td>\n",
       "      <td>16344</td>\n",
       "    </tr>\n",
       "    <tr>\n",
       "      <th>3</th>\n",
       "      <td>Class 4</td>\n",
       "      <td>14775</td>\n",
       "    </tr>\n",
       "    <tr>\n",
       "      <th>4</th>\n",
       "      <td>Class 5</td>\n",
       "      <td>15733</td>\n",
       "    </tr>\n",
       "  </tbody>\n",
       "</table>\n",
       "</div>"
      ],
      "text/plain": [
       "     Class  Number of data points\n",
       "0  Class 1                  16265\n",
       "1  Class 2                  14978\n",
       "2  Class 3                  16344\n",
       "3  Class 4                  14775\n",
       "4  Class 5                  15733"
      ]
     },
     "execution_count": 5,
     "metadata": {},
     "output_type": "execute_result"
    }
   ],
   "source": [
    "class_dist.head()"
   ]
  },
  {
   "cell_type": "code",
   "execution_count": 6,
   "id": "exclusive-stocks",
   "metadata": {},
   "outputs": [
    {
     "data": {
      "image/png": "[encoded data removed]",
      "text/plain": [
       "<Figure size 1728x576 with 2 Axes>"
      ]
     },
     "metadata": {},
     "output_type": "display_data"
    }
   ],
   "source": [
    "fig = plt.figure(figsize=[24,8])\n",
    "ax1 = fig.add_subplot(121)\n",
    "ax2 = fig.add_subplot(122)\n",
    "sns.barplot(data=class_dist,x=\"Class\",y=\"Number of data points\",ax=ax1)\n",
    "sns.barplot(data=sensor_df,x=\"Sensors\",y=\"Missing datapoints\",ax=ax2)\n",
    "plt.show()"
   ]
  },
  {
   "cell_type": "code",
   "execution_count": 7,
   "id": "moderate-freeware",
   "metadata": {},
   "outputs": [
    {
     "data": {
      "text/html": [
       "<div>\n",
       "<style scoped>\n",
       "    .dataframe tbody tr th:only-of-type {\n",
       "        vertical-align: middle;\n",
       "    }\n",
       "\n",
       "    .dataframe tbody tr th {\n",
       "        vertical-align: top;\n",
       "    }\n",
       "\n",
       "    .dataframe thead th {\n",
       "        text-align: right;\n",
       "    }\n",
       "</style>\n",
       "<table border=\"1\" class=\"dataframe\">\n",
       "  <thead>\n",
       "    <tr style=\"text-align: right;\">\n",
       "      <th></th>\n",
       "      <th>Class</th>\n",
       "      <th>X0</th>\n",
       "      <th>Y0</th>\n",
       "      <th>Z0</th>\n",
       "      <th>X1</th>\n",
       "      <th>Y1</th>\n",
       "      <th>Z1</th>\n",
       "      <th>X2</th>\n",
       "      <th>Y2</th>\n",
       "      <th>Z2</th>\n",
       "      <th>X3</th>\n",
       "    </tr>\n",
       "  </thead>\n",
       "  <tbody>\n",
       "    <tr>\n",
       "      <th>0</th>\n",
       "      <td>Class 1</td>\n",
       "      <td>54.263880</td>\n",
       "      <td>71.466776</td>\n",
       "      <td>-64.807709</td>\n",
       "      <td>76.895635</td>\n",
       "      <td>42.462500</td>\n",
       "      <td>-72.780545</td>\n",
       "      <td>36.621229</td>\n",
       "      <td>81.680557</td>\n",
       "      <td>-52.919272</td>\n",
       "      <td>85.23226389</td>\n",
       "    </tr>\n",
       "    <tr>\n",
       "      <th>1</th>\n",
       "      <td>Class 1</td>\n",
       "      <td>56.527558</td>\n",
       "      <td>72.266609</td>\n",
       "      <td>-61.935252</td>\n",
       "      <td>39.135978</td>\n",
       "      <td>82.538530</td>\n",
       "      <td>-49.596509</td>\n",
       "      <td>79.223743</td>\n",
       "      <td>43.254091</td>\n",
       "      <td>-69.982489</td>\n",
       "      <td>87.45087295</td>\n",
       "    </tr>\n",
       "    <tr>\n",
       "      <th>2</th>\n",
       "      <td>Class 1</td>\n",
       "      <td>55.849928</td>\n",
       "      <td>72.469064</td>\n",
       "      <td>-62.562788</td>\n",
       "      <td>37.988804</td>\n",
       "      <td>82.631347</td>\n",
       "      <td>-50.606259</td>\n",
       "      <td>78.451526</td>\n",
       "      <td>43.567403</td>\n",
       "      <td>-70.658489</td>\n",
       "      <td>86.83538757</td>\n",
       "    </tr>\n",
       "    <tr>\n",
       "      <th>3</th>\n",
       "      <td>Class 1</td>\n",
       "      <td>55.329647</td>\n",
       "      <td>71.707275</td>\n",
       "      <td>-63.688956</td>\n",
       "      <td>36.561863</td>\n",
       "      <td>81.868749</td>\n",
       "      <td>-52.752784</td>\n",
       "      <td>86.320630</td>\n",
       "      <td>68.214645</td>\n",
       "      <td>-72.228461</td>\n",
       "      <td>61.59615713</td>\n",
       "    </tr>\n",
       "    <tr>\n",
       "      <th>4</th>\n",
       "      <td>Class 1</td>\n",
       "      <td>55.142401</td>\n",
       "      <td>71.435607</td>\n",
       "      <td>-64.177303</td>\n",
       "      <td>36.175818</td>\n",
       "      <td>81.556874</td>\n",
       "      <td>-53.475747</td>\n",
       "      <td>76.986143</td>\n",
       "      <td>42.426849</td>\n",
       "      <td>-72.574743</td>\n",
       "      <td>86.36874806</td>\n",
       "    </tr>\n",
       "  </tbody>\n",
       "</table>\n",
       "</div>"
      ],
      "text/plain": [
       "     Class         X0         Y0         Z0         X1         Y1         Z1  \\\n",
       "0  Class 1  54.263880  71.466776 -64.807709  76.895635  42.462500 -72.780545   \n",
       "1  Class 1  56.527558  72.266609 -61.935252  39.135978  82.538530 -49.596509   \n",
       "2  Class 1  55.849928  72.469064 -62.562788  37.988804  82.631347 -50.606259   \n",
       "3  Class 1  55.329647  71.707275 -63.688956  36.561863  81.868749 -52.752784   \n",
       "4  Class 1  55.142401  71.435607 -64.177303  36.175818  81.556874 -53.475747   \n",
       "\n",
       "          X2         Y2         Z2           X3  \n",
       "0  36.621229  81.680557 -52.919272  85.23226389  \n",
       "1  79.223743  43.254091 -69.982489  87.45087295  \n",
       "2  78.451526  43.567403 -70.658489  86.83538757  \n",
       "3  86.320630  68.214645 -72.228461  61.59615713  \n",
       "4  76.986143  42.426849 -72.574743  86.36874806  "
      ]
     },
     "execution_count": 7,
     "metadata": {},
     "output_type": "execute_result"
    }
   ],
   "source": [
    "index = [i for i in range(0,11)]\n",
    "Sensor_3 = data.iloc[:,index]\n",
    "relevant_data = Sensor_3[(Sensor_3 == '?').any(axis=1) == False]\n",
    "relevant_data.head()"
   ]
  },
  {
   "cell_type": "code",
   "execution_count": 8,
   "id": "consolidated-daughter",
   "metadata": {},
   "outputs": [],
   "source": [
    "subdataset = split_data(relevant_data,20)"
   ]
  },
  {
   "cell_type": "code",
   "execution_count": 9,
   "id": "global-choir",
   "metadata": {},
   "outputs": [
    {
     "name": "stdout",
     "output_type": "stream",
     "text": [
      "Class 1 subdataset  0   749\n",
      "Class 1 subdataset  1   749\n",
      "Class 1 subdataset  2   749\n",
      "Class 1 subdataset  3   749\n",
      "Class 1 subdataset  4   749\n",
      "Class 1 subdataset  5   749\n",
      "Class 1 subdataset  6   749\n",
      "Class 1 subdataset  7   749\n",
      "Class 1 subdataset  8   749\n",
      "Class 1 subdataset  9   749\n",
      "Class 1 subdataset  10   749\n",
      "Class 1 subdataset  11   749\n",
      "Class 1 subdataset  12   749\n",
      "Class 1 subdataset  13   749\n",
      "Class 1 subdataset  14   749\n",
      "Class 1 subdataset  15   749\n",
      "Class 1 subdataset  16   749\n",
      "Class 1 subdataset  17   749\n",
      "Class 1 subdataset  18   748\n",
      "Class 1 subdataset  19   748\n"
     ]
    }
   ],
   "source": [
    "for i in range(0,len(subdataset)):\n",
    "    print(\"Class 1 subdataset \",i,\" \",(subdataset[i][:,1] == 1).sum())"
   ]
  },
  {
   "cell_type": "code",
   "execution_count": 10,
   "id": "unlimited-underwear",
   "metadata": {},
   "outputs": [
    {
     "name": "stdout",
     "output_type": "stream",
     "text": [
      "Class 1 subdataset  0   150\n",
      "Class 1 subdataset  1   150\n",
      "Class 1 subdataset  2   150\n",
      "Class 1 subdataset  3   150\n",
      "Class 1 subdataset  4   149\n"
     ]
    }
   ],
   "source": [
    "subsub = split_data(subdataset[0],5,one_hot=False)\n",
    "for i in range(0,len(subsub)):\n",
    "    print(\"Class 1 subdataset \",i,\" \",(subsub[i][:,1] == 1).sum())"
   ]
  },
  {
   "cell_type": "code",
   "execution_count": 11,
   "id": "noticed-accommodation",
   "metadata": {},
   "outputs": [],
   "source": [
    "range_C = np.linspace(1,50,3)\n",
    "range_gamma = np.linspace(0.1,2,3)\n",
    "Model_SVR = SVRmodel(subsub,-1,range_C,range_gamma,kernel='rbf') "
   ]
  },
  {
   "cell_type": "code",
   "execution_count": 12,
   "id": "regional-stack",
   "metadata": {},
   "outputs": [
    {
     "name": "stdout",
     "output_type": "stream",
     "text": [
      "(777, 15)\n"
     ]
    }
   ],
   "source": [
    "print(Model_SVR.cross_test[0].shape)"
   ]
  },
  {
   "cell_type": "code",
   "execution_count": 13,
   "id": "threatened-homework",
   "metadata": {},
   "outputs": [
    {
     "name": "stdout",
     "output_type": "stream",
     "text": [
      "C = 1.0  gamma = 0.1\n",
      "C = 1.0  gamma = 1.05\n",
      "C = 1.0  gamma = 2.0\n",
      "C = 25.5  gamma = 0.1\n",
      "C = 25.5  gamma = 1.05\n",
      "C = 25.5  gamma = 2.0\n",
      "C = 50.0  gamma = 0.1\n",
      "C = 50.0  gamma = 1.05\n",
      "C = 50.0  gamma = 2.0\n"
     ]
    }
   ],
   "source": [
    "Model_SVR.train_models()"
   ]
  },
  {
   "cell_type": "code",
   "execution_count": 14,
   "id": "electronic-conviction",
   "metadata": {},
   "outputs": [
    {
     "name": "stdout",
     "output_type": "stream",
     "text": [
      "[[1341.50695842 3350.10954844 3351.10924827]\n",
      " [3350.00807852 3354.98605905 3355.09441709]\n",
      " [3350.03480966 3354.60963963 3354.82454994]]\n"
     ]
    }
   ],
   "source": [
    "print(Model_SVR.test_grid)"
   ]
  },
  {
   "cell_type": "code",
   "execution_count": 15,
   "id": "remarkable-florida",
   "metadata": {},
   "outputs": [
    {
     "name": "stdout",
     "output_type": "stream",
     "text": [
      "[[2.67115041e+03 1.50049358e+00 1.56823637e+00]\n",
      " [1.46472571e+00 1.84312986e+00 1.85643717e+00]\n",
      " [1.47659398e+00 1.84292525e+00 1.85466614e+00]]\n"
     ]
    }
   ],
   "source": [
    "print(Model_SVR.train_grid)"
   ]
  },
  {
   "cell_type": "code",
   "execution_count": 16,
   "id": "level-laptop",
   "metadata": {},
   "outputs": [
    {
     "data": {
      "image/png": "[encoded data removed]",
      "text/plain": [
       "<Figure size 1008x432 with 4 Axes>"
      ]
     },
     "metadata": {},
     "output_type": "display_data"
    }
   ],
   "source": [
    "x = Model_SVR.grid_C\n",
    "y = Model_SVR.grid_gamma\n",
    "test = Model_SVR.test_grid\n",
    "train = Model_SVR.train_grid\n",
    "fig = plt.figure(figsize=[14,6])\n",
    "ax1 = fig.add_subplot(1,2,1)\n",
    "ax2 = fig.add_subplot(1,2,2)\n",
    "c1 = ax1.contourf(x,y,test)\n",
    "c2 = ax2.contourf(x,y,train)\n",
    "fig.colorbar(c2,ax=ax2)\n",
    "fig.colorbar(c1,ax=ax1)\n",
    "plt.show()"
   ]
  }
 ],
 "metadata": {
  "kernelspec": {
   "display_name": "Python 3",
   "language": "python",
   "name": "python3"
  },
  "language_info": {
   "codemirror_mode": {
    "name": "ipython",
    "version": 3
   },
   "file_extension": ".py",
   "mimetype": "text/x-python",
   "name": "python",
   "nbconvert_exporter": "python",
   "pygments_lexer": "ipython3",
   "version": "3.6.12"
  }
 },
 "nbformat": 4,
 "nbformat_minor": 5
}
