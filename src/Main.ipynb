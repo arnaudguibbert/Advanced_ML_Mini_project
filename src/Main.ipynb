{
 "cells": [
  {
   "cell_type": "markdown",
   "id": "wrapped-petersburg",
   "metadata": {},
   "source": [
    "#### !!! WARNING !!! Before closing this file: If you want to commit modifications make sure you have clear the outputs of each cell."
   ]
  },
  {
   "cell_type": "code",
   "execution_count": null,
   "id": "silent-smile",
   "metadata": {},
   "outputs": [],
   "source": [
    "import matplotlib.pyplot as plt\n",
    "import numpy as np \n",
    "import pandas as pd\n",
    "import seaborn as sns\n",
    "from data_processing import *\n",
    "from neural_net import *\n",
    "from time import perf_counter\n",
    "%matplotlib inline\n",
    "%load_ext autoreload\n",
    "%autoreload 2"
   ]
  },
  {
   "cell_type": "code",
   "execution_count": null,
   "id": "canadian-invasion",
   "metadata": {},
   "outputs": [],
   "source": [
    "sns.set_style(\"darkgrid\")\n",
    "data = extract(\"../Data/Postures.csv\")\n",
    "data.head()"
   ]
  },
  {
   "cell_type": "code",
   "execution_count": null,
   "id": "russian-impossible",
   "metadata": {},
   "outputs": [],
   "source": [
    "nb_data_points, features, missing_values, sensor_df, class_dist = data_params(data)\n",
    "print(\"Number of data points = \",nb_data_points)\n",
    "print(\"Number of features = \",features)\n",
    "print(\"Number of sparse data points = \",missing_values)\n",
    "print(\"Number of sensors =\",(features-2)//3)"
   ]
  },
  {
   "cell_type": "code",
   "execution_count": null,
   "id": "wicked-guinea",
   "metadata": {},
   "outputs": [],
   "source": [
    "sensor_df.head(20)"
   ]
  },
  {
   "cell_type": "code",
   "execution_count": null,
   "id": "front-blind",
   "metadata": {},
   "outputs": [],
   "source": [
    "class_dist.head()"
   ]
  },
  {
   "cell_type": "code",
   "execution_count": null,
   "id": "exclusive-stocks",
   "metadata": {},
   "outputs": [],
   "source": [
    "fig = plt.figure(figsize=[24,8])\n",
    "ax1 = fig.add_subplot(121)\n",
    "ax2 = fig.add_subplot(122)\n",
    "sns.barplot(data=class_dist,x=\"Class\",y=\"Number of data points\",ax=ax1)\n",
    "sns.barplot(data=sensor_df,x=\"Sensors\",y=\"Missing datapoints\",ax=ax2)\n",
    "plt.show()"
   ]
  },
  {
   "cell_type": "code",
   "execution_count": null,
   "id": "moderate-freeware",
   "metadata": {},
   "outputs": [],
   "source": [
    "index = [0] + [i for i in range(2,14)]\n",
    "indexX = [i for i in range(0,14)]\n",
    "indexY = [14,15,16]\n",
    "Sensor_3 = data.iloc[:,index]\n",
    "relevant_data = Sensor_3[(Sensor_3 == '?').any(axis=1) == False]\n",
    "one_hot_class = pd.get_dummies(relevant_data['Class'])\n",
    "new_relevant = pd.concat([one_hot_class,relevant_data],axis=1)\n",
    "new_relevant = new_relevant.drop(columns=[\"Class\"])\n",
    "X = new_relevant.iloc[:,indexX].to_numpy().astype(float)\n",
    "y = new_relevant.iloc[:,indexY].to_numpy().astype(float)\n",
    "#np_data = relevant_data.to_numpy()"
   ]
  },
  {
   "cell_type": "code",
   "execution_count": null,
   "id": "rotary-exploration",
   "metadata": {},
   "outputs": [],
   "source": [
    "y.shape"
   ]
  },
  {
   "cell_type": "code",
   "execution_count": null,
   "id": "fourth-israeli",
   "metadata": {},
   "outputs": [],
   "source": [
    "start = perf_counter()\n",
    "hidden = [15,10]\n",
    "loss_test, loss_train = Mynet(X,y,hidden)\n",
    "end = perf_counter()\n",
    "elapsed = end - start"
   ]
  },
  {
   "cell_type": "code",
   "execution_count": null,
   "id": "initial-treatment",
   "metadata": {},
   "outputs": [],
   "source": [
    "print(loss_test,loss_train)\n",
    "print(elapsed)"
   ]
  }
 ],
 "metadata": {
  "kernelspec": {
   "display_name": "Python 3",
   "language": "python",
   "name": "python3"
  },
  "language_info": {
   "codemirror_mode": {
    "name": "ipython",
    "version": 3
   },
   "file_extension": ".py",
   "mimetype": "text/x-python",
   "name": "python",
   "nbconvert_exporter": "python",
   "pygments_lexer": "ipython3",
   "version": "3.6.12"
  }
 },
 "nbformat": 4,
 "nbformat_minor": 5
}