{
 "cells": [
  {
   "cell_type": "markdown",
   "id": "wrapped-petersburg",
   "metadata": {},
   "source": [
    "#### !!! WARNING !!! Before closing this file: If you want to commit modifications make sure you have clear the outputs of each cell."
   ]
  },
  {
   "cell_type": "code",
   "execution_count": null,
   "id": "silent-smile",
   "metadata": {},
   "outputs": [],
   "source": [
    "import matplotlib.pyplot as plt"
   ]
  }
 ],
 "metadata": {
  "kernelspec": {
   "display_name": "Python 3",
   "language": "python",
   "name": "python3"
  },
  "language_info": {
   "codemirror_mode": {
    "name": "ipython",
    "version": 3
   },
   "file_extension": ".py",
   "mimetype": "text/x-python",
   "name": "python",
   "nbconvert_exporter": "python",
   "pygments_lexer": "ipython3",
   "version": "3.6.12"
  }
 },
 "nbformat": 4,
 "nbformat_minor": 5
}
