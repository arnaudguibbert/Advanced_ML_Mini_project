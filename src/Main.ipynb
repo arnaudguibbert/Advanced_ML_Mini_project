{
 "cells": [
  {
   "cell_type": "code",
   "execution_count": 1,
   "id": "noted-durham",
   "metadata": {},
   "outputs": [],
   "source": [
    "import torch\n",
    "import torch.nn as nn\n",
    "import cv2\n",
    "import pandas as pd\n",
    "import numpy as np\n",
    "import seaborn as sns\n",
    "import matplotlib.pyplot as plt\n",
    "import os\n",
    "from sklearn.manifold import LocallyLinearEmbedding as LLE\n",
    "from scipy.spatial.distance import pdist\n",
    "from utils import normalize, Assessment, plot_time_comparison, residual_correlation, split_two\n",
    "%load_ext autoreload\n",
    "%autoreload 2"
   ]
  },
  {
   "cell_type": "code",
   "execution_count": 9,
   "id": "civilian-simple",
   "metadata": {},
   "outputs": [
    {
     "data": {
      "text/html": [
       "<div>\n",
       "<style scoped>\n",
       "    .dataframe tbody tr th:only-of-type {\n",
       "        vertical-align: middle;\n",
       "    }\n",
       "\n",
       "    .dataframe tbody tr th {\n",
       "        vertical-align: top;\n",
       "    }\n",
       "\n",
       "    .dataframe thead th {\n",
       "        text-align: right;\n",
       "    }\n",
       "</style>\n",
       "<table border=\"1\" class=\"dataframe\">\n",
       "  <thead>\n",
       "    <tr style=\"text-align: right;\">\n",
       "      <th></th>\n",
       "      <th>Number of neighbors</th>\n",
       "      <th>Output dimension</th>\n",
       "      <th>Reconstruction error</th>\n",
       "      <th>Residual variance</th>\n",
       "      <th>KNN Accuracy</th>\n",
       "      <th>KNN F1 measure</th>\n",
       "      <th>KNN accuracy std</th>\n",
       "      <th>KNN F1 measure std</th>\n",
       "    </tr>\n",
       "  </thead>\n",
       "  <tbody>\n",
       "    <tr>\n",
       "      <th>200</th>\n",
       "      <td>103.0</td>\n",
       "      <td>1.0</td>\n",
       "      <td>5.320666e-08</td>\n",
       "      <td>0.560001</td>\n",
       "      <td>75.375639</td>\n",
       "      <td>0.669624</td>\n",
       "      <td>1.510775</td>\n",
       "      <td>0.016771</td>\n",
       "    </tr>\n",
       "    <tr>\n",
       "      <th>201</th>\n",
       "      <td>103.0</td>\n",
       "      <td>2.0</td>\n",
       "      <td>8.417022e-07</td>\n",
       "      <td>0.389327</td>\n",
       "      <td>80.477903</td>\n",
       "      <td>0.741526</td>\n",
       "      <td>0.940842</td>\n",
       "      <td>0.014788</td>\n",
       "    </tr>\n",
       "    <tr>\n",
       "      <th>202</th>\n",
       "      <td>103.0</td>\n",
       "      <td>3.0</td>\n",
       "      <td>2.241410e-06</td>\n",
       "      <td>0.292222</td>\n",
       "      <td>88.040400</td>\n",
       "      <td>0.846245</td>\n",
       "      <td>1.209103</td>\n",
       "      <td>0.015727</td>\n",
       "    </tr>\n",
       "    <tr>\n",
       "      <th>203</th>\n",
       "      <td>103.0</td>\n",
       "      <td>4.0</td>\n",
       "      <td>6.251703e-06</td>\n",
       "      <td>0.305124</td>\n",
       "      <td>88.178606</td>\n",
       "      <td>0.848254</td>\n",
       "      <td>0.982866</td>\n",
       "      <td>0.012427</td>\n",
       "    </tr>\n",
       "  </tbody>\n",
       "</table>\n",
       "</div>"
      ],
      "text/plain": [
       "     Number of neighbors  Output dimension  Reconstruction error  \\\n",
       "200                103.0               1.0          5.320666e-08   \n",
       "201                103.0               2.0          8.417022e-07   \n",
       "202                103.0               3.0          2.241410e-06   \n",
       "203                103.0               4.0          6.251703e-06   \n",
       "\n",
       "     Residual variance  KNN Accuracy  KNN F1 measure  KNN accuracy std  \\\n",
       "200           0.560001     75.375639        0.669624          1.510775   \n",
       "201           0.389327     80.477903        0.741526          0.940842   \n",
       "202           0.292222     88.040400        0.846245          1.209103   \n",
       "203           0.305124     88.178606        0.848254          0.982866   \n",
       "\n",
       "     KNN F1 measure std  \n",
       "200            0.016771  \n",
       "201            0.014788  \n",
       "202            0.015727  \n",
       "203            0.012427  "
      ]
     },
     "execution_count": 9,
     "metadata": {},
     "output_type": "execute_result"
    }
   ],
   "source": [
    "data_LLE = pd.read_csv(\"data\\LLE_semi_set.csv\")\n",
    "data_LLE = data_LLE.groupby([\"Number of neighbors\",\"Output dimension\"]).mean().reset_index()\n",
    "data_LLE = data_LLE[data_LLE[\"Number of neighbors\"] == 103]\n",
    "data_LLE.head()"
   ]
  },
  {
   "cell_type": "markdown",
   "id": "innocent-alpha",
   "metadata": {},
   "source": [
    "# About the dataset "
   ]
  },
  {
   "cell_type": "markdown",
   "id": "collective-reason",
   "metadata": {},
   "source": [
    "The data set contains some information about mails (frequency of some words, special characters, number of capital letters etc...). Each mail is then classified as spam (class = 1) or not spam (class = 0). Each datapoint has 56 features, if you want to get more information about these features, you can go in the data folder where all these information are detailed (or you can go directly on the website where the data set is available https://archive.ics.uci.edu/ml/datasets/Spambase). The goal of this project is to find a manifold where the data of interest lies (if it exists one). Here, the data of interest is of course to know if a mail is a spam or not. Let's then try to find a lower-dimensional space where we can easily separate these two classes. "
   ]
  },
  {
   "cell_type": "code",
   "execution_count": 2,
   "id": "square-bailey",
   "metadata": {},
   "outputs": [],
   "source": [
    "columns = [\"Class\"]\n",
    "columns += [\"Frequence word \" + str(i) for i in range(1,49)]\n",
    "columns += [\"Special character \" + str(i) for i in range(1,7)]\n",
    "columns += [\"Capital length mean\"]\n",
    "columns += [\"Capital length longest\"]\n",
    "columns += [\"Sum of captital length\"]\n",
    "data = pd.read_csv(\"../Data/spambasedata.csv\",names=columns)\n",
    "data.shape # Let's have a look at the sructure of the data set\n",
    "data_np = data.to_numpy().astype(float) # Convert it to a numpy array\n",
    "data_np = split_two(data_np)"
   ]
  },
  {
   "cell_type": "code",
   "execution_count": 4,
   "id": "modern-fireplace",
   "metadata": {},
   "outputs": [
    {
     "data": {
      "image/png": "[encoded data removed]",
      "text/plain": [
       "<Figure size 432x288 with 1 Axes>"
      ]
     },
     "metadata": {
      "needs_background": "light"
     },
     "output_type": "display_data"
    }
   ],
   "source": [
    "class_dist = data.groupby([\"Class\"]).count().iloc[:,0].reset_index()\n",
    "class_dist.rename(columns={\"Frequence word 1\":\"Number of data points\"},inplace=True)\n",
    "sns.barplot(data=class_dist,x=\"Class\",y=\"Number of data points\")\n",
    "sns.set_style(\"darkgrid\")\n",
    "plt.show()"
   ]
  },
  {
   "cell_type": "markdown",
   "id": "dominant-dimension",
   "metadata": {},
   "source": [
    "# Dimensionality Reduction"
   ]
  },
  {
   "cell_type": "markdown",
   "id": "coated-purchase",
   "metadata": {},
   "source": [
    "We will test and compare two dimensionality reduction methods : Locally Linear Embeddings (LLE) and one of its derivative Modified Locally Linear Embeddings (MLLE). To do so we will see if this these algorithms are able to extract the relevant information, idest to separate the 2 classes in two different clusters. "
   ]
  },
  {
   "cell_type": "markdown",
   "id": "governing-ridge",
   "metadata": {},
   "source": [
    "### Sanity checks"
   ]
  },
  {
   "cell_type": "code",
   "execution_count": 5,
   "id": "plastic-price",
   "metadata": {},
   "outputs": [],
   "source": [
    "range_components = np.arange(2,51,4)\n",
    "range_neighbors = np.arange(10,41,5)\n",
    "myalgo = Assessment(data_np,range_components,range_neighbors,check=False)"
   ]
  },
  {
   "cell_type": "code",
   "execution_count": 6,
   "id": "modular-relaxation",
   "metadata": {},
   "outputs": [
    {
     "name": "stdout",
     "output_type": "stream",
     "text": [
      "number of sets 3\n",
      "size of one training set (1534, 58)\n",
      "size of one testing set (767, 58)\n",
      "size of last training set (1535, 58)\n",
      "size of last testing set (766, 58)\n",
      "ratio of classes 39.39986953685584\n"
     ]
    }
   ],
   "source": [
    "train_set, test_set = myalgo.crossksets(data_np)\n",
    "print(\"number of sets\",len(train_set))\n",
    "print(\"size of one training set\",train_set[1].shape)\n",
    "print(\"size of one testing set\",test_set[1].shape)\n",
    "print(\"size of last training set\",train_set[-1].shape)\n",
    "print(\"size of last testing set\",test_set[-1].shape)\n",
    "print(\"ratio of classes\",train_set[0][train_set[0][:,0] == 1].shape[0]/train_set[0].shape[0]*100)"
   ]
  },
  {
   "cell_type": "code",
   "execution_count": 7,
   "id": "cross-disposal",
   "metadata": {},
   "outputs": [
    {
     "name": "stdout",
     "output_type": "stream",
     "text": [
      "Number of different values : 29447\n",
      "Number of different values : 29337\n",
      "Number of different values : 14503\n"
     ]
    }
   ],
   "source": [
    "train_set_2, test_set_2 = myalgo.crossksets(data_np)\n",
    "print(\"Number of different values :\",(train_set[0] != train_set_2[0]).sum())\n",
    "print(\"Number of different values :\",(train_set[1] != train_set_2[1]).sum())\n",
    "print(\"Number of different values :\",(test_set[0] != test_set_2[0]).sum())"
   ]
  },
  {
   "cell_type": "markdown",
   "id": "frozen-rapid",
   "metadata": {},
   "source": [
    "# Locally Linear Embeddings"
   ]
  },
  {
   "cell_type": "code",
   "execution_count": 8,
   "id": "pacific-roller",
   "metadata": {},
   "outputs": [],
   "source": [
    "range_components = np.arange(1,4,2)\n",
    "range_neighbors = np.arange(10,101,10)\n",
    "LLE_algo = Assessment(data_np,range_components,range_neighbors,k=5,check=False,norm=False,norm_0100=True)"
   ]
  },
  {
   "cell_type": "markdown",
   "id": "greek-replication",
   "metadata": {},
   "source": [
    "### Have a look on the first 4 components"
   ]
  },
  {
   "cell_type": "code",
   "execution_count": 10,
   "id": "suspected-building",
   "metadata": {},
   "outputs": [],
   "source": [
    "k_cand  = [34,103,200]\n",
    "for k in k_cand:\n",
    "    LLE_algo.generate_pairplot(k,4,save_file=\"LLE_pairplot_semi_set_k=\"+str(k),title=\"k=\"+str(k))"
   ]
  },
  {
   "cell_type": "code",
   "execution_count": null,
   "id": "pretty-stadium",
   "metadata": {},
   "outputs": [],
   "source": [
    "LLE_algo.generate_3Dplot(10,\"LLE\")"
   ]
  },
  {
   "cell_type": "markdown",
   "id": "personalized-confusion",
   "metadata": {},
   "source": [
    "## Hyperparameters analysis"
   ]
  },
  {
   "cell_type": "markdown",
   "id": "intellectual-movie",
   "metadata": {},
   "source": [
    "1 classical metric and two additional ones have been chosen to determine the number of neighbors to use:\n",
    "* The reconstruction error, or the cumulative sum of the eigenvalues\n",
    "* The accuracy and the F1 measure using linear SVM to separate the classes\n",
    "* The accuracy and the F1 measure using KNN to separate the classes"
   ]
  },
  {
   "cell_type": "code",
   "execution_count": null,
   "id": "controversial-sweet",
   "metadata": {},
   "outputs": [],
   "source": [
    "LLE_algo.reset()\n",
    "LLE_algo.find_hyper()"
   ]
  },
  {
   "cell_type": "code",
   "execution_count": null,
   "id": "preliminary-protest",
   "metadata": {
    "scrolled": true
   },
   "outputs": [],
   "source": [
    "LLE_algo.generate_all(save_file=\"LLE_test\")"
   ]
  },
  {
   "cell_type": "code",
   "execution_count": null,
   "id": "atlantic-philosophy",
   "metadata": {},
   "outputs": [],
   "source": [
    "LLE_algo.plot_cumulative_error(title=\"Reconstruction error\",save_file=\"LLE_cum_test\")"
   ]
  },
  {
   "cell_type": "code",
   "execution_count": null,
   "id": "comparable-stamp",
   "metadata": {},
   "outputs": [],
   "source": [
    "LLE_algo.plot_residual_variance(title=\"Residual Variance\",save_file=\"LLE_residual_test\")"
   ]
  },
  {
   "cell_type": "markdown",
   "id": "intellectual-poetry",
   "metadata": {},
   "source": [
    "# Modified Locally Linear Embeddings "
   ]
  },
  {
   "cell_type": "code",
   "execution_count": 11,
   "id": "considered-sphere",
   "metadata": {},
   "outputs": [],
   "source": [
    "range_components = np.arange(2,8,5)\n",
    "range_neighbors = np.arange(40,101,30)\n",
    "MLLE_algo = Assessment(data_np,range_components,range_neighbors,k=5,method=\"modified\",check=False,norm=False,norm_0100=True)"
   ]
  },
  {
   "cell_type": "markdown",
   "id": "sealed-debate",
   "metadata": {},
   "source": [
    "### Have a look on the first 4 components"
   ]
  },
  {
   "cell_type": "code",
   "execution_count": 12,
   "id": "delayed-queue",
   "metadata": {},
   "outputs": [],
   "source": [
    "k_cand  = [16,50,200]\n",
    "for k in k_cand:\n",
    "    MLLE_algo.generate_pairplot(k,4,save_file=\"MLLE_pairplot_semi_set_k=\"+str(k),title=\"k=\"+str(k))"
   ]
  },
  {
   "cell_type": "code",
   "execution_count": null,
   "id": "round-movie",
   "metadata": {},
   "outputs": [],
   "source": [
    "fig = plt.figure(figsize=[10,8])\n",
    "MLLE_algo.generate_3Dplot(50,fig,[1,1,1],\"MLLE\")\n",
    "fig.savefig(\"test.svg\")"
   ]
  },
  {
   "cell_type": "markdown",
   "id": "nervous-tulsa",
   "metadata": {},
   "source": [
    "## Hyperparameters analysis"
   ]
  },
  {
   "cell_type": "markdown",
   "id": "stock-fifteen",
   "metadata": {},
   "source": [
    "1 classical metric and two additional ones have been chosen to determine the number of neighbors to use:\n",
    "* The reconstruction error, or the cumulative sum of the eigenvalues\n",
    "* The accuracy and the F1 measure using linear SVM to separate the classes\n",
    "* The accuracy and the F1 measure using KNN to separate the classes"
   ]
  },
  {
   "cell_type": "code",
   "execution_count": null,
   "id": "saved-ceramic",
   "metadata": {},
   "outputs": [],
   "source": [
    "MLLE_algo.reset()\n",
    "MLLE_algo.find_hyper()"
   ]
  },
  {
   "cell_type": "code",
   "execution_count": null,
   "id": "historical-cylinder",
   "metadata": {},
   "outputs": [],
   "source": [
    "MLLE_algo.generate_all(save_file=\"not none\")"
   ]
  },
  {
   "cell_type": "code",
   "execution_count": null,
   "id": "interstate-nursing",
   "metadata": {},
   "outputs": [],
   "source": [
    "MLLE_algo.plot_cumulative_error(title=\"Reconstruction error\",save_file=\"MLLE_cum_test\")"
   ]
  },
  {
   "cell_type": "code",
   "execution_count": null,
   "id": "judicial-identification",
   "metadata": {},
   "outputs": [],
   "source": [
    "MLLE_algo.plot_residual_variance(title=\"Residual Variance\",save_file=\"MLLE_residual_test\")"
   ]
  }
 ],
 "metadata": {
  "kernelspec": {
   "display_name": "Python 3",
   "language": "python",
   "name": "python3"
  },
  "language_info": {
   "codemirror_mode": {
    "name": "ipython",
    "version": 3
   },
   "file_extension": ".py",
   "mimetype": "text/x-python",
   "name": "python",
   "nbconvert_exporter": "python",
   "pygments_lexer": "ipython3",
   "version": "3.6.12"
  }
 },
 "nbformat": 4,
 "nbformat_minor": 5
}
